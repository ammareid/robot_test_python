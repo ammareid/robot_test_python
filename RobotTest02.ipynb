{
 "cells": [
  {
   "cell_type": "code",
   "execution_count": 1,
   "id": "bd02373f",
   "metadata": {},
   "outputs": [
    {
     "name": "stdout",
     "output_type": "stream",
     "text": [
      "Collecting RPi.GPIO\n",
      "  Downloading RPi.GPIO-0.7.1.tar.gz (29 kB)\n",
      "  Preparing metadata (setup.py): started\n",
      "  Preparing metadata (setup.py): finished with status 'done'\n",
      "Building wheels for collected packages: RPi.GPIO\n",
      "  Building wheel for RPi.GPIO (setup.py): started\n",
      "  Building wheel for RPi.GPIO (setup.py): finished with status 'error'\n",
      "  Running setup.py clean for RPi.GPIO\n",
      "Failed to build RPi.GPIO\n",
      "Note: you may need to restart the kernel to use updated packages.\n"
     ]
    },
    {
     "name": "stderr",
     "output_type": "stream",
     "text": [
      "  error: subprocess-exited-with-error\n",
      "  \n",
      "  python setup.py bdist_wheel did not run successfully.\n",
      "  exit code: 1\n",
      "  \n",
      "  [18 lines of output]\n",
      "  running bdist_wheel\n",
      "  running build\n",
      "  running build_py\n",
      "  creating build\n",
      "  creating build\\lib.win-amd64-cpython-311\n",
      "  creating build\\lib.win-amd64-cpython-311\\RPi\n",
      "  copying RPi\\__init__.py -> build\\lib.win-amd64-cpython-311\\RPi\n",
      "  creating build\\lib.win-amd64-cpython-311\\RPi\\GPIO\n",
      "  copying RPi\\GPIO\\__init__.py -> build\\lib.win-amd64-cpython-311\\RPi\\GPIO\n",
      "  running build_ext\n",
      "  building 'RPi._GPIO' extension\n",
      "  creating build\\temp.win-amd64-cpython-311\n",
      "  creating build\\temp.win-amd64-cpython-311\\Release\n",
      "  creating build\\temp.win-amd64-cpython-311\\Release\\source\n",
      "  \"C:\\Program Files\\Microsoft Visual Studio\\2022\\Community\\VC\\Tools\\MSVC\\14.37.32822\\bin\\HostX86\\x64\\cl.exe\" /c /nologo /O2 /W3 /GL /DNDEBUG /MD -IC:\\Users\\mr_ar\\anaconda3\\include -IC:\\Users\\mr_ar\\anaconda3\\Include \"-IC:\\Program Files\\Microsoft Visual Studio\\2022\\Community\\VC\\Tools\\MSVC\\14.37.32822\\include\" \"-IC:\\Program Files\\Microsoft Visual Studio\\2022\\Community\\VC\\Tools\\MSVC\\14.37.32822\\ATLMFC\\include\" \"-IC:\\Program Files\\Microsoft Visual Studio\\2022\\Community\\VC\\Auxiliary\\VS\\include\" \"-IC:\\Program Files (x86)\\Windows Kits\\10\\include\\10.0.22621.0\\ucrt\" \"-IC:\\Program Files (x86)\\Windows Kits\\10\\\\include\\10.0.22621.0\\\\um\" \"-IC:\\Program Files (x86)\\Windows Kits\\10\\\\include\\10.0.22621.0\\\\shared\" \"-IC:\\Program Files (x86)\\Windows Kits\\10\\\\include\\10.0.22621.0\\\\winrt\" \"-IC:\\Program Files (x86)\\Windows Kits\\10\\\\include\\10.0.22621.0\\\\cppwinrt\" /Tcsource/c_gpio.c /Fobuild\\temp.win-amd64-cpython-311\\Release\\source/c_gpio.obj\n",
      "  c_gpio.c\n",
      "  source/c_gpio.c(27): fatal error C1083: Cannot open include file: 'sys/mman.h': No such file or directory\n",
      "  error: command 'C:\\\\Program Files\\\\Microsoft Visual Studio\\\\2022\\\\Community\\\\VC\\\\Tools\\\\MSVC\\\\14.37.32822\\\\bin\\\\HostX86\\\\x64\\\\cl.exe' failed with exit code 2\n",
      "  [end of output]\n",
      "  \n",
      "  note: This error originates from a subprocess, and is likely not a problem with pip.\n",
      "  ERROR: Failed building wheel for RPi.GPIO\n",
      "ERROR: Could not build wheels for RPi.GPIO, which is required to install pyproject.toml-based projects\n"
     ]
    }
   ],
   "source": [
    "%pip install RPi.GPIO"
   ]
  },
  {
   "cell_type": "code",
   "execution_count": null,
   "id": "963b236d",
   "metadata": {},
   "outputs": [],
   "source": [
    "import RPi.GPIO as GPIO\n",
    "import time\n",
    "\n",
    "# Set GPIO mode and pins\n",
    "GPIO.setmode(GPIO.BCM)\n",
    "GPIO.setwarnings(False)\n",
    "IN1 = 17\n",
    "IN2 = 18\n",
    "IN3 = 27\n",
    "IN4 = 22\n",
    "ENA = 23  # Enable pin for motor A\n",
    "ENB = 24  # Enable pin for motor B\n",
    "\n",
    "# Set PWM frequency and duty cycle\n",
    "PWM_FREQ = 1000  # PWM frequency in Hz\n",
    "DUTY_CYCLE = 50  # Initial duty cycle (0-100)\n",
    "\n",
    "# Setup GPIO pins as output\n",
    "GPIO.setup(IN1, GPIO.OUT)\n",
    "GPIO.setup(IN2, GPIO.OUT)\n",
    "GPIO.setup(IN3, GPIO.OUT)\n",
    "GPIO.setup(IN4, GPIO.OUT)\n",
    "GPIO.setup(ENA, GPIO.OUT)\n",
    "GPIO.setup(ENB, GPIO.OUT)\n",
    "\n",
    "# Create PWM objects for motor control\n",
    "pwm_a = GPIO.PWM(ENA, PWM_FREQ)\n",
    "pwm_b = GPIO.PWM(ENB, PWM_FREQ)\n",
    "\n",
    "# Start PWM with initial duty cycle\n",
    "pwm_a.start(DUTY_CYCLE)\n",
    "pwm_b.start(DUTY_CYCLE)\n",
    "\n",
    "# Function to go forward\n",
    "def go_forward():\n",
    "    GPIO.output(IN1, GPIO.HIGH)\n",
    "    GPIO.output(IN2, GPIO.LOW)\n",
    "    GPIO.output(IN3, GPIO.HIGH)\n",
    "    GPIO.output(IN4, GPIO.LOW)\n",
    "\n",
    "# Function to go right\n",
    "def go_right(angle):\n",
    "    GPIO.output(IN1, GPIO.HIGH)\n",
    "    GPIO.output(IN2, GPIO.LOW)\n",
    "    GPIO.output(IN3, GPIO.LOW)\n",
    "    GPIO.output(IN4, GPIO.HIGH)\n",
    "    time.sleep(angle)  # Adjust the sleep duration based on gyro readings\n",
    "\n",
    "# Function to go left\n",
    "def go_left(angle):\n",
    "    GPIO.output(IN1, GPIO.LOW)\n",
    "    GPIO.output(IN2, GPIO.HIGH)\n",
    "    GPIO.output(IN3, GPIO.HIGH)\n",
    "    GPIO.output(IN4, GPIO.LOW)\n",
    "    time.sleep(angle)  # Adjust the sleep duration based on gyro readings\n",
    "\n",
    "# Function to change motor speed\n",
    "def change_speed(duty_cycle):\n",
    "    pwm_a.ChangeDutyCycle(duty_cycle)\n",
    "    pwm_b.ChangeDutyCycle(duty_cycle)\n",
    "\n",
    "# Example usage\n",
    "# go_forward()\n",
    "# time.sleep(2)  # Go forward for 2 seconds\n",
    "# change_speed(75)  # Change motor speed to 75% (adjust as needed)\n",
    "# go_right(0.5)  # Turn right for 0.5 seconds (adjust angle based on gyro readings)\n",
    "# go_left(0.5)   # Turn left for 0.5 seconds (adjust angle based on gyro readings)\n",
    "\n",
    "# # Cleanup GPIO pins and PWM objects\n",
    "# pwm_a.stop()\n",
    "# pwm_b.stop()\n",
    "# GPIO.cleanup()"
   ]
  },
  {
   "cell_type": "code",
   "execution_count": 15,
   "id": "99bbfcb7",
   "metadata": {
    "scrolled": false
   },
   "outputs": [
    {
     "name": "stdout",
     "output_type": "stream",
     "text": [
      "{'model': 24, 'firmware': (1, 29), 'hardware': 7, 'serialnumber': 'B69EED93C0EA98C7A0E69BF526404560'}\n",
      "('Good', 0)\n",
      "Right:  False , Left: False\n",
      "Forward\n",
      "Right:  False , Left: False\n",
      "Forward\n",
      "Right:  False , Left: False\n",
      "Forward\n",
      "Right:  False , Left: False\n",
      "Forward\n",
      "Right:  False , Left: False\n",
      "Forward\n",
      "Right:  False , Left: False\n",
      "Forward\n",
      "Right:  False , Left: False\n",
      "Forward\n",
      "Right:  False , Left: False\n",
      "Forward\n",
      "Right:  False , Left: False\n",
      "Forward\n",
      "Right:  False , Left: False\n",
      "Forward\n",
      "Right:  False , Left: False\n",
      "Forward\n",
      "Right:  False , Left: False\n",
      "Forward\n",
      "Right:  False , Left: False\n",
      "Forward\n",
      "Right:  False , Left: False\n",
      "Forward\n",
      "Right:  False , Left: False\n",
      "Forward\n",
      "Right:  False , Left: False\n",
      "Forward\n",
      "Right:  False , Left: False\n",
      "Forward\n",
      "Right:  False , Left: False\n",
      "Forward\n",
      "Right:  False , Left: False\n",
      "Forward\n",
      "Right:  False , Left: False\n",
      "Forward\n",
      "Right:  False , Left: False\n",
      "Forward\n",
      "Right:  False , Left: False\n",
      "Forward\n",
      "Right:  False , Left: False\n",
      "Forward\n",
      "Right:  False , Left: False\n",
      "Forward\n",
      "Right:  False , Left: False\n",
      "Forward\n",
      "Right:  False , Left: False\n",
      "Forward\n",
      "Right:  False , Left: False\n",
      "Forward\n",
      "Right:  False , Left: False\n",
      "Forward\n",
      "Right:  False , Left: False\n",
      "Forward\n",
      "Right:  False , Left: False\n",
      "Forward\n",
      "Right:  False , Left: False\n",
      "Forward\n",
      "Right:  False , Left: False\n",
      "Forward\n",
      "Right:  False , Left: True\n",
      "Go right\n"
     ]
    },
    {
     "name": "stderr",
     "output_type": "stream",
     "text": [
      "Too many bytes in the input buffer: 14691/3000. Cleaning buffer...\n"
     ]
    },
    {
     "name": "stdout",
     "output_type": "stream",
     "text": [
      "Right:  False , Left: False\n",
      "Forward\n",
      "Right:  False , Left: True\n",
      "Go right\n"
     ]
    },
    {
     "name": "stderr",
     "output_type": "stream",
     "text": [
      "Too many bytes in the input buffer: 14675/3000. Cleaning buffer...\n"
     ]
    },
    {
     "name": "stdout",
     "output_type": "stream",
     "text": [
      "Right:  False , Left: True\n",
      "Go right\n"
     ]
    },
    {
     "name": "stderr",
     "output_type": "stream",
     "text": [
      "Too many bytes in the input buffer: 14625/3000. Cleaning buffer...\n"
     ]
    },
    {
     "name": "stdout",
     "output_type": "stream",
     "text": [
      "Right:  False , Left: False\n",
      "Forward\n",
      "Right:  True , Left: False\n",
      "Go left\n"
     ]
    },
    {
     "name": "stderr",
     "output_type": "stream",
     "text": [
      "Too many bytes in the input buffer: 14665/3000. Cleaning buffer...\n"
     ]
    },
    {
     "name": "stdout",
     "output_type": "stream",
     "text": [
      "Right:  False , Left: False\n",
      "Forward\n",
      "Right:  True , Left: True\n",
      "Full left\n"
     ]
    },
    {
     "name": "stderr",
     "output_type": "stream",
     "text": [
      "Too many bytes in the input buffer: 19555/3000. Cleaning buffer...\n"
     ]
    },
    {
     "name": "stdout",
     "output_type": "stream",
     "text": [
      "Right:  False , Left: False\n",
      "Forward\n",
      "Right:  True , Left: True\n",
      "Full left\n"
     ]
    },
    {
     "name": "stderr",
     "output_type": "stream",
     "text": [
      "Too many bytes in the input buffer: 19580/3000. Cleaning buffer...\n"
     ]
    },
    {
     "name": "stdout",
     "output_type": "stream",
     "text": [
      "Right:  False , Left: False\n",
      "Forward\n",
      "Right:  True , Left: True\n",
      "Full left\n"
     ]
    },
    {
     "name": "stderr",
     "output_type": "stream",
     "text": [
      "Too many bytes in the input buffer: 19575/3000. Cleaning buffer...\n"
     ]
    },
    {
     "name": "stdout",
     "output_type": "stream",
     "text": [
      "Right:  False , Left: False\n",
      "Forward\n",
      "Right:  True , Left: False\n",
      "Go left\n"
     ]
    },
    {
     "name": "stderr",
     "output_type": "stream",
     "text": [
      "Too many bytes in the input buffer: 14665/3000. Cleaning buffer...\n"
     ]
    },
    {
     "name": "stdout",
     "output_type": "stream",
     "text": [
      "Right:  False , Left: False\n",
      "Forward\n",
      "Right:  True , Left: False\n",
      "Go left\n"
     ]
    },
    {
     "name": "stderr",
     "output_type": "stream",
     "text": [
      "Too many bytes in the input buffer: 14666/3000. Cleaning buffer...\n"
     ]
    },
    {
     "name": "stdout",
     "output_type": "stream",
     "text": [
      "Right:  False , Left: False\n",
      "Forward\n",
      "Right:  True , Left: False\n",
      "Go left\n"
     ]
    },
    {
     "name": "stderr",
     "output_type": "stream",
     "text": [
      "Too many bytes in the input buffer: 14661/3000. Cleaning buffer...\n"
     ]
    },
    {
     "name": "stdout",
     "output_type": "stream",
     "text": [
      "Right:  False , Left: False\n",
      "Forward\n",
      "Right:  True , Left: False\n",
      "Go left\n"
     ]
    },
    {
     "name": "stderr",
     "output_type": "stream",
     "text": [
      "Too many bytes in the input buffer: 14665/3000. Cleaning buffer...\n"
     ]
    },
    {
     "name": "stdout",
     "output_type": "stream",
     "text": [
      "Right:  False , Left: False\n",
      "Forward\n",
      "Right:  True , Left: False\n",
      "Go left\n"
     ]
    },
    {
     "name": "stderr",
     "output_type": "stream",
     "text": [
      "Too many bytes in the input buffer: 14660/3000. Cleaning buffer...\n"
     ]
    },
    {
     "name": "stdout",
     "output_type": "stream",
     "text": [
      "Right:  False , Left: False\n",
      "Forward\n",
      "Right:  True , Left: False\n",
      "Go left\n"
     ]
    },
    {
     "name": "stderr",
     "output_type": "stream",
     "text": [
      "Too many bytes in the input buffer: 14650/3000. Cleaning buffer...\n"
     ]
    },
    {
     "name": "stdout",
     "output_type": "stream",
     "text": [
      "Right:  False , Left: False\n",
      "Forward\n",
      "Right:  True , Left: False\n",
      "Go left\n"
     ]
    },
    {
     "name": "stderr",
     "output_type": "stream",
     "text": [
      "Too many bytes in the input buffer: 14701/3000. Cleaning buffer...\n"
     ]
    },
    {
     "name": "stdout",
     "output_type": "stream",
     "text": [
      "Right:  False , Left: False\n",
      "Forward\n",
      "Right:  True , Left: False\n",
      "Go left\n"
     ]
    },
    {
     "name": "stderr",
     "output_type": "stream",
     "text": [
      "Too many bytes in the input buffer: 14670/3000. Cleaning buffer...\n"
     ]
    },
    {
     "name": "stdout",
     "output_type": "stream",
     "text": [
      "Right:  False , Left: False\n",
      "Forward\n",
      "Right:  True , Left: False\n",
      "Go left\n"
     ]
    },
    {
     "name": "stderr",
     "output_type": "stream",
     "text": [
      "Too many bytes in the input buffer: 14675/3000. Cleaning buffer...\n"
     ]
    },
    {
     "name": "stdout",
     "output_type": "stream",
     "text": [
      "Right:  False , Left: False\n",
      "Forward\n",
      "Right:  True , Left: False\n",
      "Go left\n"
     ]
    },
    {
     "name": "stderr",
     "output_type": "stream",
     "text": [
      "Too many bytes in the input buffer: 14656/3000. Cleaning buffer...\n"
     ]
    },
    {
     "name": "stdout",
     "output_type": "stream",
     "text": [
      "Right:  False , Left: False\n",
      "Forward\n",
      "Right:  True , Left: False\n",
      "Go left\n"
     ]
    },
    {
     "name": "stderr",
     "output_type": "stream",
     "text": [
      "Too many bytes in the input buffer: 14665/3000. Cleaning buffer...\n"
     ]
    },
    {
     "name": "stdout",
     "output_type": "stream",
     "text": [
      "Right:  False , Left: False\n",
      "Forward\n",
      "Right:  True , Left: False\n",
      "Go left\n"
     ]
    },
    {
     "name": "stderr",
     "output_type": "stream",
     "text": [
      "Too many bytes in the input buffer: 14650/3000. Cleaning buffer...\n"
     ]
    },
    {
     "name": "stdout",
     "output_type": "stream",
     "text": [
      "Right:  False , Left: False\n",
      "Forward\n",
      "Right:  True , Left: False\n",
      "Go left\n"
     ]
    },
    {
     "name": "stderr",
     "output_type": "stream",
     "text": [
      "Too many bytes in the input buffer: 14646/3000. Cleaning buffer...\n"
     ]
    },
    {
     "name": "stdout",
     "output_type": "stream",
     "text": [
      "Right:  False , Left: False\n",
      "Forward\n",
      "Right:  True , Left: False\n",
      "Go left\n"
     ]
    },
    {
     "name": "stderr",
     "output_type": "stream",
     "text": [
      "Too many bytes in the input buffer: 14655/3000. Cleaning buffer...\n"
     ]
    },
    {
     "name": "stdout",
     "output_type": "stream",
     "text": [
      "Right:  False , Left: False\n",
      "Forward\n",
      "Right:  True , Left: False\n",
      "Go left\n"
     ]
    },
    {
     "name": "stderr",
     "output_type": "stream",
     "text": [
      "Too many bytes in the input buffer: 14680/3000. Cleaning buffer...\n"
     ]
    },
    {
     "name": "stdout",
     "output_type": "stream",
     "text": [
      "Right:  False , Left: False\n",
      "Forward\n",
      "Right:  True , Left: False\n",
      "Go left\n"
     ]
    },
    {
     "name": "stderr",
     "output_type": "stream",
     "text": [
      "Too many bytes in the input buffer: 14680/3000. Cleaning buffer...\n"
     ]
    },
    {
     "name": "stdout",
     "output_type": "stream",
     "text": [
      "Right:  False , Left: True\n",
      "Go right\n"
     ]
    },
    {
     "name": "stderr",
     "output_type": "stream",
     "text": [
      "Too many bytes in the input buffer: 14680/3000. Cleaning buffer...\n"
     ]
    },
    {
     "name": "stdout",
     "output_type": "stream",
     "text": [
      "Right:  False , Left: False\n",
      "Forward\n",
      "Right:  True , Left: False\n",
      "Go left\n"
     ]
    },
    {
     "name": "stderr",
     "output_type": "stream",
     "text": [
      "Too many bytes in the input buffer: 14661/3000. Cleaning buffer...\n"
     ]
    },
    {
     "name": "stdout",
     "output_type": "stream",
     "text": [
      "Right:  False , Left: False\n",
      "Forward\n",
      "Right:  True , Left: False\n",
      "Go left\n"
     ]
    },
    {
     "name": "stderr",
     "output_type": "stream",
     "text": [
      "Too many bytes in the input buffer: 14741/3000. Cleaning buffer...\n"
     ]
    },
    {
     "name": "stdout",
     "output_type": "stream",
     "text": [
      "Right:  False , Left: False\n",
      "Forward\n",
      "Right:  True , Left: False\n",
      "Go left\n"
     ]
    },
    {
     "name": "stderr",
     "output_type": "stream",
     "text": [
      "Too many bytes in the input buffer: 14671/3000. Cleaning buffer...\n"
     ]
    },
    {
     "name": "stdout",
     "output_type": "stream",
     "text": [
      "Right:  False , Left: False\n",
      "Forward\n",
      "Right:  True , Left: False\n",
      "Go left\n"
     ]
    },
    {
     "name": "stderr",
     "output_type": "stream",
     "text": [
      "Too many bytes in the input buffer: 14716/3000. Cleaning buffer...\n"
     ]
    },
    {
     "name": "stdout",
     "output_type": "stream",
     "text": [
      "Right:  False , Left: False\n",
      "Forward\n",
      "Right:  True , Left: False\n",
      "Go left\n"
     ]
    },
    {
     "name": "stderr",
     "output_type": "stream",
     "text": [
      "Too many bytes in the input buffer: 14656/3000. Cleaning buffer...\n"
     ]
    },
    {
     "name": "stdout",
     "output_type": "stream",
     "text": [
      "Right:  False , Left: False\n",
      "Forward\n",
      "Right:  True , Left: False\n",
      "Go left\n"
     ]
    },
    {
     "name": "stderr",
     "output_type": "stream",
     "text": [
      "Too many bytes in the input buffer: 14690/3000. Cleaning buffer...\n"
     ]
    },
    {
     "name": "stdout",
     "output_type": "stream",
     "text": [
      "Right:  False , Left: False\n",
      "Forward\n",
      "Right:  True , Left: False\n",
      "Go left\n"
     ]
    },
    {
     "name": "stderr",
     "output_type": "stream",
     "text": [
      "Too many bytes in the input buffer: 14681/3000. Cleaning buffer...\n"
     ]
    },
    {
     "name": "stdout",
     "output_type": "stream",
     "text": [
      "Right:  False , Left: False\n",
      "Forward\n",
      "Right:  True , Left: False\n",
      "Go left\n"
     ]
    },
    {
     "name": "stderr",
     "output_type": "stream",
     "text": [
      "Too many bytes in the input buffer: 14691/3000. Cleaning buffer...\n"
     ]
    },
    {
     "name": "stdout",
     "output_type": "stream",
     "text": [
      "Right:  False , Left: False\n",
      "Forward\n",
      "Right:  True , Left: False\n",
      "Go left\n"
     ]
    },
    {
     "name": "stderr",
     "output_type": "stream",
     "text": [
      "Too many bytes in the input buffer: 14670/3000. Cleaning buffer...\n"
     ]
    },
    {
     "name": "stdout",
     "output_type": "stream",
     "text": [
      "Right:  False , Left: False\n",
      "Forward\n",
      "Right:  True , Left: False\n",
      "Go left\n"
     ]
    },
    {
     "name": "stderr",
     "output_type": "stream",
     "text": [
      "Too many bytes in the input buffer: 14686/3000. Cleaning buffer...\n"
     ]
    },
    {
     "name": "stdout",
     "output_type": "stream",
     "text": [
      "Right:  False , Left: False\n",
      "Forward\n",
      "Right:  True , Left: False\n",
      "Go left\n"
     ]
    },
    {
     "name": "stderr",
     "output_type": "stream",
     "text": [
      "Too many bytes in the input buffer: 14706/3000. Cleaning buffer...\n"
     ]
    },
    {
     "name": "stdout",
     "output_type": "stream",
     "text": [
      "Right:  False , Left: False\n",
      "Forward\n",
      "Right:  True , Left: False\n",
      "Go left\n"
     ]
    }
   ],
   "source": [
    "import time\n",
    "from datetime import datetime\n",
    "from rplidar import RPLidar\n",
    "\n",
    "right_object_detected = False\n",
    "left_object_detected = False\n",
    "\n",
    "OBSTACLE_THRESHOLD = 500\n",
    "Right_angle_threshhold = 45\n",
    "Left_angle_threshhold = 315\n",
    "\n",
    "lidar = RPLidar('COM3',baudrate=115200)\n",
    "\n",
    "info = lidar.get_info()\n",
    "print(info)\n",
    "\n",
    "health = lidar.get_health()\n",
    "print(health)\n",
    "\n",
    "for scanNo, scan in enumerate(lidar.iter_scans()):\n",
    "    # right meaning 0 < angle < 45\n",
    "    # left meaning 315 < angle < 360\n",
    "    right_object_detected = False\n",
    "    left_object_detected = False\n",
    "\n",
    "\n",
    "    \n",
    "    for lineNo, line in enumerate(scan):\n",
    "        angle = line[1]\n",
    "        distance = line[2]\n",
    "        \n",
    "        if ( (0 < angle) and (angle < Right_angle_threshhold)) and (distance<OBSTACLE_THRESHOLD):\n",
    "            right_object_detected = True\n",
    "#             print(\"Right Detected. Angle:\",angle, \"Distance: \", distance)\n",
    "        elif ((Left_angle_threshhold < angle) and (angle < 360)) and (distance<OBSTACLE_THRESHOLD):\n",
    "            left_object_detected = True\n",
    "            \n",
    "    print(\"Right: \", right_object_detected, \", Left:\", left_object_detected)\n",
    "    \n",
    "    \n",
    "    \n",
    "    if right_object_detected and left_object_detected:\n",
    "        #go_left(2)\n",
    "        print(\"Full left\")\n",
    "        time.sleep(2)\n",
    "    elif right_object_detected :\n",
    "#         go_left(1.5)\n",
    "        print(\"Go left\")\n",
    "        time.sleep(1.5)\n",
    "    elif left_object_detected:\n",
    "#         go_right(1.5) \n",
    "        print(\"Go right\")\n",
    "        time.sleep(1.5)\n",
    "    else :\n",
    "#         go_forward()\n",
    "        print(\"Forward\")\n",
    "     \n",
    "        \n",
    "    if scanNo >= 100:\n",
    "        break\n",
    "\n",
    "# scan = lidar.iter_scans()\n",
    "\n",
    "lidar.stop()\n",
    "lidar.stop_motor()\n",
    "lidar.disconnect()"
   ]
  },
  {
   "cell_type": "code",
   "execution_count": null,
   "id": "a74b4825",
   "metadata": {},
   "outputs": [],
   "source": [
    "# which_direction \n",
    "# return (bool,bool) (left, right)\n",
    "\n",
    "import time\n",
    "from datetime import datetime\n",
    "from rplidar import RPLidar\n",
    "\n",
    "lidar = RPLidar('COM3',baudrate=115200)\n",
    "\n",
    "info = lidar.get_info()\n",
    "print(info)\n",
    "\n",
    "health = lidar.get_health()\n",
    "print(health)\n",
    "\n",
    "left_object_detected = False\n",
    "right_object_detected = False\n",
    "\n",
    "#move forward\n",
    "\n",
    "\n",
    "for scanNo, scan in enumerate(lidar.iter_scans()):\n",
    "#     print('%d: Got %d measurments' % (i, len(scan)))\n",
    "    closestAngle = None\n",
    "    closestDistance = None\n",
    "\n",
    "    for lineNo, line in enumerate(scan):\n",
    "        angle = line[1]\n",
    "        distance = line[2]\n",
    "        if(lineNo==0):\n",
    "            closestAngle = angle\n",
    "            closestDistance = distance\n",
    "        else:\n",
    "            if(distance<closestDistance):\n",
    "                closestAngle = angle\n",
    "                closestDistance = distance\n",
    "#         print(\"Angle: \", angle, \"Distance: \", distance)\n",
    "    print(\"Scan No: \", scanNo, \", Time: \", datetime.now(), \", Closest Angle: \", closestAngle, \", Closest Distance: \", closestDistance/10)\n",
    "    if scanNo >= 50:\n",
    "        break\n",
    "\n",
    "# scan = lidar.iter_scans()\n",
    "\n",
    "lidar.stop()\n",
    "lidar.stop_motor()\n",
    "lidar.disconnect()\n",
    "    "
   ]
  }
 ],
 "metadata": {
  "kernelspec": {
   "display_name": "Python 3 (ipykernel)",
   "language": "python",
   "name": "python3"
  },
  "language_info": {
   "codemirror_mode": {
    "name": "ipython",
    "version": 3
   },
   "file_extension": ".py",
   "mimetype": "text/x-python",
   "name": "python",
   "nbconvert_exporter": "python",
   "pygments_lexer": "ipython3",
   "version": "3.11.5"
  }
 },
 "nbformat": 4,
 "nbformat_minor": 5
}
